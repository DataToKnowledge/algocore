{
 "cells": [
  {
   "cell_type": "code",
   "execution_count": 1,
   "metadata": {
    "collapsed": false
   },
   "outputs": [],
   "source": [
    "import pandas as pd\n",
    "import numpy as np\n",
    "import json\n",
    "from wtl.es.QueryTermsIndexer import *"
   ]
  },
  {
   "cell_type": "code",
   "execution_count": 5,
   "metadata": {
    "collapsed": true
   },
   "outputs": [],
   "source": [
    "crimes_path = \"../src/main/resources/crimesList.csv\"\n",
    "geofoss_path = \"../src/main/resources/headed_gfossdata.csv\""
   ]
  },
  {
   "cell_type": "code",
   "execution_count": 3,
   "metadata": {
    "collapsed": true
   },
   "outputs": [],
   "source": [
    "crimes_df = pd.read_csv(crimes_path)\n",
    "geo_df = pd.read_csv(geofoss_path, sep=\"|\")"
   ]
  },
  {
   "cell_type": "code",
   "execution_count": 6,
   "metadata": {
    "collapsed": false
   },
   "outputs": [],
   "source": [
    "apulia_cities = geo_df[geo_df.region_name == 'Puglia']\n",
    "crimes = crimes_df[crimes_df.type == 'crime']\n",
    "unique_provs = pd.Series(geo_df.province_name.unique())"
   ]
  },
  {
   "cell_type": "code",
   "execution_count": 7,
   "metadata": {
    "collapsed": true
   },
   "outputs": [],
   "source": [
    "crimes_provs = list(cartesian(crimes.name, unique_provs))"
   ]
  },
  {
   "cell_type": "code",
   "execution_count": 8,
   "metadata": {
    "collapsed": false
   },
   "outputs": [
    {
     "data": {
      "text/plain": [
       "[['abuso', 'Torino'],\n",
       " ['abuso', 'Cuneo'],\n",
       " ['abuso', 'Asti'],\n",
       " ['abuso', 'Alessandria'],\n",
       " ['abuso', 'Vercelli'],\n",
       " ['abuso', 'Novara'],\n",
       " ['abuso', \"Valle d'Aosta\"],\n",
       " ['abuso', 'Imperia'],\n",
       " ['abuso', 'Savona'],\n",
       " ['abuso', 'Genova']]"
      ]
     },
     "execution_count": 8,
     "metadata": {},
     "output_type": "execute_result"
    }
   ],
   "source": [
    "crimes_provs[0:10]"
   ]
  },
  {
   "cell_type": "code",
   "execution_count": 10,
   "metadata": {
    "collapsed": false
   },
   "outputs": [],
   "source": [
    "apulia_crime_cities = list(cartesian(crimes.name, apulia_cities.city_name))"
   ]
  },
  {
   "cell_type": "code",
   "execution_count": 12,
   "metadata": {
    "collapsed": false
   },
   "outputs": [
    {
     "data": {
      "text/plain": [
       "[['abuso', 'Toritto'],\n",
       " ['abuso', 'Isole Tremiti'],\n",
       " ['abuso', 'San Nicandro Garganico'],\n",
       " ['abuso', 'Castellana Grotte'],\n",
       " ['abuso', 'Accadia'],\n",
       " ['abuso', 'Alberona'],\n",
       " ['abuso', 'Anzano di Puglia'],\n",
       " ['abuso', 'Biccari'],\n",
       " ['abuso', 'Carlantino'],\n",
       " ['abuso', 'Carpino']]"
      ]
     },
     "execution_count": 12,
     "metadata": {},
     "output_type": "execute_result"
    }
   ],
   "source": [
    "apulia_crime_cities[:10]"
   ]
  },
  {
   "cell_type": "code",
   "execution_count": 33,
   "metadata": {
    "collapsed": true
   },
   "outputs": [],
   "source": [
    "nodes = ['192.168.99.100:9200']\n",
    "index = 'wtl'\n",
    "doc_type = 'query_terms'"
   ]
  },
  {
   "cell_type": "code",
   "execution_count": 34,
   "metadata": {
    "collapsed": false
   },
   "outputs": [],
   "source": [
    "tIndexer = QueryTermsIndexer(nodes,index,doc_type)"
   ]
  },
  {
   "cell_type": "code",
   "execution_count": 35,
   "metadata": {
    "collapsed": false
   },
   "outputs": [
    {
     "data": {
      "text/plain": [
       "(1, 0)"
      ]
     },
     "execution_count": 35,
     "metadata": {},
     "output_type": "execute_result"
    }
   ],
   "source": [
    "tIndexer.bulk_load(crimes_provs[0:1])"
   ]
  },
  {
   "cell_type": "code",
   "execution_count": 22,
   "metadata": {
    "collapsed": false
   },
   "outputs": [
    {
     "data": {
      "text/plain": [
       "{'acknowledged': True}"
      ]
     },
     "execution_count": 22,
     "metadata": {},
     "output_type": "execute_result"
    }
   ],
   "source": [
    "tIndexer.es.indices.delete(index)"
   ]
  },
  {
   "cell_type": "code",
   "execution_count": null,
   "metadata": {
    "collapsed": true
   },
   "outputs": [],
   "source": []
  }
 ],
 "metadata": {
  "kernelspec": {
   "display_name": "Python 3",
   "language": "python",
   "name": "python3"
  },
  "language_info": {
   "codemirror_mode": {
    "name": "ipython",
    "version": 3
   },
   "file_extension": ".py",
   "mimetype": "text/x-python",
   "name": "python",
   "nbconvert_exporter": "python",
   "pygments_lexer": "ipython3",
   "version": "3.5.1"
  }
 },
 "nbformat": 4,
 "nbformat_minor": 0
}
