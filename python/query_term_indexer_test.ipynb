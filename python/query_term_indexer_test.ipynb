{
 "cells": [
  {
   "cell_type": "code",
   "execution_count": 25,
   "metadata": {
    "collapsed": false
   },
   "outputs": [],
   "source": [
    "import pandas as pd\n",
    "import numpy as np\n",
    "import json\n",
    "from wtl.es.QueryTermsIndexer import *"
   ]
  },
  {
   "cell_type": "code",
   "execution_count": 26,
   "metadata": {
    "collapsed": true
   },
   "outputs": [],
   "source": [
    "crimes_path = \"../src/main/resources/crimesList.csv\"\n",
    "geofoss_path = \"../src/main/resources/headed_gfossdata.csv\""
   ]
  },
  {
   "cell_type": "code",
   "execution_count": 27,
   "metadata": {
    "collapsed": true
   },
   "outputs": [],
   "source": [
    "crimes_df = pd.read_csv(crimes_path)\n",
    "geo_df = pd.read_csv(geofoss_path, sep=\"|\")"
   ]
  },
  {
   "cell_type": "code",
   "execution_count": 28,
   "metadata": {
    "collapsed": false
   },
   "outputs": [],
   "source": [
    "greater15k = geo_df[geo_df.population > 15000]\n",
    "crimes = crimes_df[crimes_df.type == 'crime']\n",
    "unique_provs = pd.Series(greater15k.province_name.unique())"
   ]
  },
  {
   "cell_type": "code",
   "execution_count": 29,
   "metadata": {
    "collapsed": true
   },
   "outputs": [],
   "source": [
    "crimes_provs = list(cartesian(crimes.name, unique_provs))"
   ]
  },
  {
   "cell_type": "code",
   "execution_count": 30,
   "metadata": {
    "collapsed": false
   },
   "outputs": [
    {
     "data": {
      "text/plain": [
       "[['abuso', 'Cuneo'],\n",
       " ['abuso', 'Alessandria'],\n",
       " ['abuso', 'Imperia'],\n",
       " ['abuso', 'Genova'],\n",
       " ['abuso', 'La Spezia'],\n",
       " ['abuso', 'Como'],\n",
       " ['abuso', 'Sondrio'],\n",
       " ['abuso', 'Milano'],\n",
       " ['abuso', 'Bergamo'],\n",
       " ['abuso', 'Brescia']]"
      ]
     },
     "execution_count": 30,
     "metadata": {},
     "output_type": "execute_result"
    }
   ],
   "source": [
    "crimes_provs[0:10]"
   ]
  },
  {
   "cell_type": "code",
   "execution_count": 31,
   "metadata": {
    "collapsed": true
   },
   "outputs": [],
   "source": [
    "cities = list(cartesian(crimes.name, greater15k.city_name))"
   ]
  },
  {
   "cell_type": "code",
   "execution_count": 32,
   "metadata": {
    "collapsed": false
   },
   "outputs": [
    {
     "data": {
      "text/plain": [
       "[['abuso', 'Savigliano'],\n",
       " ['abuso', 'Casale Monferrato'],\n",
       " ['abuso', 'Imperia'],\n",
       " ['abuso', 'Chiavari'],\n",
       " ['abuso', 'Genova'],\n",
       " ['abuso', 'Sestri Levante'],\n",
       " ['abuso', 'La Spezia'],\n",
       " ['abuso', 'Mariano Comense'],\n",
       " ['abuso', 'Sondrio'],\n",
       " ['abuso', 'Abbiategrasso']]"
      ]
     },
     "execution_count": 32,
     "metadata": {},
     "output_type": "execute_result"
    }
   ],
   "source": [
    "cities[:10]"
   ]
  },
  {
   "cell_type": "code",
   "execution_count": 33,
   "metadata": {
    "collapsed": true
   },
   "outputs": [],
   "source": [
    "nodes = ['192.168.99.100:9200']\n",
    "index = 'wtl'\n",
    "doc_type = 'query_terms'"
   ]
  },
  {
   "cell_type": "code",
   "execution_count": 34,
   "metadata": {
    "collapsed": false
   },
   "outputs": [],
   "source": [
    "tIndexer = QueryTermsIndexer(nodes,index,doc_type)"
   ]
  },
  {
   "cell_type": "code",
   "execution_count": 35,
   "metadata": {
    "collapsed": false
   },
   "outputs": [
    {
     "data": {
      "text/plain": [
       "(1, 0)"
      ]
     },
     "execution_count": 35,
     "metadata": {},
     "output_type": "execute_result"
    }
   ],
   "source": [
    "tIndexer.bulk_load(crimes_provs[0:1])"
   ]
  },
  {
   "cell_type": "code",
   "execution_count": 22,
   "metadata": {
    "collapsed": false
   },
   "outputs": [
    {
     "data": {
      "text/plain": [
       "{'acknowledged': True}"
      ]
     },
     "execution_count": 22,
     "metadata": {},
     "output_type": "execute_result"
    }
   ],
   "source": [
    "tIndexer.es.indices.delete(index)"
   ]
  },
  {
   "cell_type": "code",
   "execution_count": null,
   "metadata": {
    "collapsed": true
   },
   "outputs": [],
   "source": []
  }
 ],
 "metadata": {
  "kernelspec": {
   "display_name": "Python 3",
   "language": "python",
   "name": "python3"
  },
  "language_info": {
   "codemirror_mode": {
    "name": "ipython",
    "version": 3
   },
   "file_extension": ".py",
   "mimetype": "text/x-python",
   "name": "python",
   "nbconvert_exporter": "python",
   "pygments_lexer": "ipython3",
   "version": "3.5.1"
  }
 },
 "nbformat": 4,
 "nbformat_minor": 0
}
